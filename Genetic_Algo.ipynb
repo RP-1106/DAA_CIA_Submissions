{
 "cells": [
  {
   "cell_type": "code",
   "execution_count": 1,
   "metadata": {
    "id": "tXh2QXZ4vtBC"
   },
   "outputs": [],
   "source": [
    "import numpy as np\n",
    "import torch\n",
    "import pandas as pd\n",
    "import tensorflow as tf\n",
    "\n",
    "no_of_people=1\n",
    "def function():\n",
    "    data = pd.read_csv(\"Bank_Personal_Loan_Modelling.csv\")\n",
    "    data.drop(['ID'], axis=1, inplace = True)\n",
    "    x = data.drop(['Personal Loan'] , axis = 1).values\n",
    "    y = data['Personal Loan'].values\n",
    "    x = torch.tensor(x , dtype = torch.float64) \n",
    "    y = torch.tensor(y , dtype = torch.float64)\n",
    "    y = y.to(torch.float64)\n",
    "    \n",
    "    from sklearn.model_selection import train_test_split\n",
    "    x_train, x_test, y_train, y_test = train_test_split(x, y, random_state=42, test_size=0.25)\n",
    "    return x_train , x_test , y_train , y_test"
   ]
  },
  {
   "cell_type": "code",
   "execution_count": 2,
   "metadata": {
    "id": "0s5ILT1JyJRF"
   },
   "outputs": [],
   "source": [
    "class NN(torch.nn.Module):\n",
    "    def __init__(self):\n",
    "        super().__init__()\n",
    "        ''' Linear1 is the input layer\n",
    "            Linear2 is the first hidden layer \n",
    "            Linear3 is the second hidden layer\n",
    "        '''\n",
    "        self.linear1 = torch.nn.Linear(12, 10)\n",
    "        self.linear2 = torch.nn.Linear(10, 20)\n",
    "        self.linear3 = torch.nn.Linear(20 , 1)\n",
    "        self.relu = torch.nn.ReLU()\n",
    "        self.sigmoid = torch.nn.Sigmoid()\n",
    "    ''' First you enter linear1(input layer) and then your output from linear1 passes a ReLu and \n",
    "        then enter hidden layer1 (linear2); whatever outputs from linear2 enters linear3 (hidden layer2)\n",
    "        (there is no optimization function between linear2 and linear3 but the output of linear2 are \n",
    "        acted on by the weights of linear3 to give a new output)\n",
    "        Output from linear3 goes through a relu and then a sigmoid. \n",
    "        Output of the sigmoid function is the final output'''\n",
    "    def forward(self, x):\n",
    "        x = self.linear1(x.float())\n",
    "        x = self.relu(x.float())\n",
    "        x = self.linear2(x.float())\n",
    "        x = self.linear3(x.float())\n",
    "        x = self.relu(x.float())\n",
    "        x = self.sigmoid(x.float())\n",
    "        return x"
   ]
  },
  {
   "cell_type": "code",
   "execution_count": 3,
   "metadata": {},
   "outputs": [
    {
     "data": {
      "text/plain": [
       "'for i in model.parameters():\\n    print(i)'"
      ]
     },
     "execution_count": 3,
     "metadata": {},
     "output_type": "execute_result"
    }
   ],
   "source": [
    "'''for i in model.parameters():\n",
    "    print(i)'''"
   ]
  },
  {
   "cell_type": "markdown",
   "metadata": {},
   "source": [
    "1. Initialiser a population with the three <br>\n",
    "2. Generate offsprings <br>\n",
    "3. Do selection on offspring to get 2 parent individuals <br>\n",
    "4. Do crossover on parents to get two children <br>\n",
    "5. Do mutation on the children <br>\n",
    "6. Add those children to the population <br>\n",
    "7. Update weights using the fitness function <br>\n",
    "8. Every 10th epoch apply decay rate <br>"
   ]
  },
  {
   "cell_type": "code",
   "execution_count": 4,
   "metadata": {
    "id": "k4GWUErUyJhT"
   },
   "outputs": [],
   "source": [
    "class GeneticOptimizer:\n",
    "    '''Initialize your model parameters'''\n",
    "    def __init__(self, model, population_size, mutation , decay ,  inputs  , labels):\n",
    "        self.model = model\n",
    "        self.population_size = population_size\n",
    "        self.mutation = mutation\n",
    "        self.population = self.init_population() #---CALLING INIT_POPULATION FUNCTION HERE HERE\n",
    "        self.decay = decay\n",
    "        self.inputs = inputs\n",
    "        self.labels = labels\n",
    "\n",
    "    def init_population(self):\n",
    "        population = []\n",
    "        for i in range(self.population_size):\n",
    "            weights = []\n",
    "            ''' self.model.parameters are the things you defined under the __init__ of your model class\n",
    "                basically those self.linear1, self.linear2 defined will be returned\n",
    "                Since in linear1 there are 12->10 nodes, no.of connections is 12x10 + 1 bias = 121\n",
    "                In linear2 it is 10->20 nodes, no.of connections is 10x20 + 1 bias = 201\n",
    "                In linear 3 it is 20->1 nodes, so 20x1 + 1bias = 21 connections\n",
    "                In totality there will be 121+201+21 = 343 parameters\n",
    "                The parameters linear1,linear2,linear3 are returned as a tensor like in the previous cell \n",
    "                containing 120,200,20 weights.\n",
    "                Same bias is used for all three layers\n",
    "                The last tensor returned as a single element in the list in the prev cell output is the bias. '''\n",
    "            for weight in self.model.parameters(): \n",
    "                weights.append(weight.data.numpy())\n",
    "                ''' Three sets of weights are returned.\n",
    "                    Those three sets act as one invidivual\n",
    "                    So, our population has 3 individuals'''\n",
    "            #print(f\"len of weight in iteration {i+1} is {len(weights)} - tensor1,bias1 , tensor2,bias2, tensor3,bias3\")\n",
    "            population.append(weights)\n",
    "            #print(f\"len of population in iteration {i+1} is {len(population)}\\n\")\n",
    "        return population\n",
    "\n",
    "    '''\n",
    "        Create a new population.\n",
    "        self.selection is giving the index of the individual with the best and second best fitness score\n",
    "        self.population finds that element with this index and assigns parent1 and parent2\n",
    "        self.crossover - crossover between male and female gives us 2 children - child1 and child2\n",
    "        Do mutation on both the children\n",
    "        Append the children to the population'''\n",
    "    def generate_offspring(self, fitness_scores):\n",
    "        new_population = []\n",
    "        for _ in range(self.population_size):\n",
    "            ''' Initially we have 20 people in the population\n",
    "                We select 2 people with the best fitness score from those 20 ppl\n",
    "                Assume 1 is male and the other is female\n",
    "                In each iteration, the same parent produces 2 children\n",
    "                \n",
    "                At the end of 20 iterations (Cause 20=population size), we will have 40 children\n",
    "                These 40 new children will make our new population\n",
    "                As in \n",
    "                These 40 children replace their parent to become the new gen population\n",
    "                \n",
    "                This is run 50 epoch times\n",
    "                So, the 40 people/children population changes in each epoch \n",
    "                by adding 2 children 20 times in this functions' 20 iterations\n",
    "                '''\n",
    "            parent1_index = self.selection(fitness_scores)\n",
    "            parent2_index = self.selection(fitness_scores)\n",
    "            parent1 = self.population[parent1_index] \n",
    "            parent2 = self.population[parent2_index]\n",
    "            child1, child2 = self.crossover(parent1, parent2)\n",
    "            child1 = self.mutate(child1)\n",
    "            child2 = self.mutate(child2)\n",
    "            new_population.append(child1)\n",
    "            new_population.append(child2)\n",
    "            \n",
    "        self.population = new_population\n",
    "        #print(f\"\\nnew population has {len(self.population)} no.of people\")\n",
    "\n",
    "    '''Select individuals with the best fitness score and return their indices'''\n",
    "    def selection(self, fitness_scores):\n",
    "        cumulative_scores = np.cumsum(fitness_scores)\n",
    "        total_score = np.sum(fitness_scores)\n",
    "        rand = np.random.uniform(0, total_score)\n",
    "        selected_index = np.searchsorted(cumulative_scores, rand)\n",
    "        return selected_index\n",
    "    \n",
    "    '''Male and Female will do crossover and produce 2 children which will be added to\n",
    "    the new population (next gen)'''\n",
    "    def crossover(self, male, female):\n",
    "        random_crossover = np.random.randint(1, len(male))\n",
    "        child1 = male[:random_crossover] + female[random_crossover:]\n",
    "        child2 = male[:random_crossover] + female[random_crossover:]\n",
    "        return child1, child2\n",
    "    \n",
    "    '''randomly do mutations on the child so that changes occur in the subsequent generations\n",
    "    and not the exact same characteristics remain throughout generations'''\n",
    "    def mutate(self, child):\n",
    "        for i in range(len(child)):\n",
    "            if np.random.uniform(0, 1) < self.mutation:\n",
    "                child[i] += np.random.normal(0, 0.1, child[i].shape)\n",
    "        return child\n",
    "    \n",
    "    def fitness(self, weights):\n",
    "        global no_of_people\n",
    "        for i, param in enumerate(self.model.parameters()):\n",
    "            #print(f\"\\n\\n\\na={a}\")\n",
    "            #print(f\"weights[{i}] = {weights[i]}\")\n",
    "            param.data = torch.Tensor(weights[i])\n",
    "        #print(f\"no_of_people = {no_of_people}\")\n",
    "        no_of_people+=1\n",
    "        outputs = self.model(self.inputs)\n",
    "        loss = loss_fn(outputs.float(), self.labels.reshape([len(self.inputs) , 1]).float())\n",
    "        return 1 / (loss.item() + 1e-6)\n",
    "    \n",
    "    def update_weight(self):\n",
    "        fitness_scores = [self.fitness(weights) for weights in self.population]\n",
    "        best_index = np.argmax(fitness_scores)\n",
    "        best_weights = self.population[best_index]\n",
    "        for i, param in enumerate(self.model.parameters()):\n",
    "            param.data = torch.Tensor(best_weights[i])\n",
    "            \n",
    "    def decay_mutation(self):\n",
    "        self.mutation -= (self.decay*self.mutation)"
   ]
  },
  {
   "cell_type": "code",
   "execution_count": 5,
   "metadata": {
    "id": "Mx6wok84yJy-"
   },
   "outputs": [
    {
     "name": "stdout",
     "output_type": "stream",
     "text": [
      "Epoch 0  :  0.9077333211898804\n",
      "Epoch 10  :  0.25\n",
      "Epoch 20  :  0.25\n",
      "Epoch 30  :  0.25\n",
      "Epoch 40  :  0.25\n",
      "Epoch 50  :  0.25\n"
     ]
    }
   ],
   "source": [
    "model = NN()\n",
    "loss_fn = torch.nn.MSELoss() #this is an in-built torch function\n",
    "\n",
    "x_train, x_test, y_train, y_test = function()\n",
    "genetic_optimizer = GeneticOptimizer(model, population_size=20, mutation=0.3, \n",
    "                                     decay = 0.05, inputs = x_train, labels = y_train)\n",
    "\n",
    "loss_list = []\n",
    "for epoch in range(51):\n",
    "    genetic_optimizer.generate_offspring([])\n",
    "    genetic_optimizer.update_weight()\n",
    "    outputs = model(x_train)\n",
    "    loss = loss_fn(outputs, y_train.reshape([len(x_train) , 1]).float())\n",
    "    loss_list.append(loss.item())\n",
    "    loss.backward()\n",
    "    genetic_optimizer.generate_offspring([])\n",
    "    genetic_optimizer.update_weight()\n",
    "    if (epoch%10 == 0):\n",
    "        print(\"Epoch\" , epoch , \" : \" , loss.item())\n",
    "        genetic_optimizer.decay_mutation()"
   ]
  },
  {
   "cell_type": "code",
   "execution_count": null,
   "metadata": {},
   "outputs": [],
   "source": [
    "\n"
   ]
  }
 ],
 "metadata": {
  "accelerator": "GPU",
  "colab": {
   "provenance": []
  },
  "gpuClass": "standard",
  "kernelspec": {
   "display_name": "Python 3 (ipykernel)",
   "language": "python",
   "name": "python3"
  },
  "language_info": {
   "codemirror_mode": {
    "name": "ipython",
    "version": 3
   },
   "file_extension": ".py",
   "mimetype": "text/x-python",
   "name": "python",
   "nbconvert_exporter": "python",
   "pygments_lexer": "ipython3",
   "version": "3.9.7"
  }
 },
 "nbformat": 4,
 "nbformat_minor": 1
}
